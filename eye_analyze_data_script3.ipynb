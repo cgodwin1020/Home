{
 "cells": [
  {
   "cell_type": "code",
   "execution_count": 1,
   "metadata": {},
   "outputs": [],
   "source": [
    "# ready for use 061518\n",
    "# Analysis Step 3\n",
    "\n",
    "import numpy as np\n",
    "import pandas as pd\n",
    "import pickle\n",
    "import feather\n",
    "import fnmatch\n",
    "import os\n",
    "import re"
   ]
  },
  {
   "cell_type": "code",
   "execution_count": 2,
   "metadata": {},
   "outputs": [],
   "source": [
    "def load_obj(name ):\n",
    "    with open(name + '.pkl', 'rb') as f:\n",
    "        return pickle.load(f)"
   ]
  },
  {
   "cell_type": "code",
   "execution_count": 3,
   "metadata": {},
   "outputs": [],
   "source": [
    "def save_obj(obj, name ):\n",
    "    with open(name + '.pkl', 'wb') as f:\n",
    "        pickle.dump(obj, f, pickle.HIGHEST_PROTOCOL)"
   ]
  },
  {
   "cell_type": "code",
   "execution_count": 4,
   "metadata": {},
   "outputs": [],
   "source": [
    "import csv\n",
    "\n",
    "def write_list_to_file(missing_list, missing_filename):\n",
    "    \"\"\"Write the list to csv file.\"\"\"\n",
    "\n",
    "    with open(missing_filename, \"w\") as outfile:\n",
    "        for entries in missing_list:\n",
    "            entries = str(entries)\n",
    "            outfile.write(entries)\n",
    "            outfile.write(\"\\n\")"
   ]
  },
  {
   "cell_type": "code",
   "execution_count": 7,
   "metadata": {},
   "outputs": [],
   "source": [
    "sub_list = [33]\n",
    "block_list = [1, 2, 3, 4, 5]"
   ]
  },
  {
   "cell_type": "code",
   "execution_count": 8,
   "metadata": {},
   "outputs": [],
   "source": [
    "\n",
    "for sub in sub_list:\n",
    "    data_file = \"eye_data_prepared_sub%d\" % sub\n",
    "    mydata = load_obj(data_file)\n",
    "    for b in block_list:\n",
    "        block_file = \"eye_data_sub%d_block%d\" % (sub, b)\n",
    "        block_data = mydata[block_file]['all_trial_data']\n",
    "        missing_trials = []\n",
    "        \n",
    "        for k in block_data:\n",
    "            trial_data = block_data.get(k)\n",
    "            pupil = trial_data['LEFT_PUPIL_SIZE']\n",
    "            pupil = pd.to_numeric(pupil, errors='coerce')\n",
    "            total_nans = pupil.isnull().sum() # counting missing values\n",
    "            trial_length = len(pupil) # counting total number of samples\n",
    "            percent = total_nans/trial_length\n",
    "            missing_trials.append(k)\n",
    "            missing_trials.append(percent)\n",
    "            if percent <= .40:\n",
    "                # need to exclude nans in beginning (and end?)\n",
    "                pupil_int = pupil.interpolate(limit_direction = 'both')  # linear interpolation of missing values of pupil diameter, allows for interpolation of NaNs at beginning and end\n",
    "                pupil_int_df = pupil_int.to_frame()\n",
    "                filename = \"pupil_int_%s.feather\" % (k)\n",
    "                feather.write_dataframe(pupil_int_df, filename) # for reading: df = feather.read_dataframe(path)\n",
    "        missing_filename = \"missing_trials_sub%d_block%d.csv\" % (sub, b)\n",
    "        write_list_to_file(missing_trials, missing_filename)"
   ]
  },
  {
   "cell_type": "code",
   "execution_count": 441,
   "metadata": {},
   "outputs": [],
   "source": [
    "# use R scripts to call hampel function on feather files"
   ]
  },
  {
   "cell_type": "code",
   "execution_count": 9,
   "metadata": {},
   "outputs": [],
   "source": [
    "# for baseline\n",
    "for sub in sub_list:\n",
    "    data_file = \"eye_data_prepared_sub%d\" % sub\n",
    "    mydata = load_obj(data_file)\n",
    "    for b in block_list:\n",
    "        block_file = \"eye_data_sub%d_block%d\" % (sub, b)\n",
    "        first_baseline_data = mydata[block_file]['first_baseline_data']\n",
    "        missing_trials = []\n",
    "        pupil = first_baseline_data['LEFT_PUPIL_SIZE']\n",
    "        pupil = pd.to_numeric(pupil, errors='coerce')\n",
    "        total_nans = pupil.isnull().sum() # counting missing values\n",
    "        baseline_length = len(pupil) # counting total number of samples\n",
    "        percent = total_nans/baseline_length\n",
    "        k = \"baseline_first_trial_sub%d_block%d\" % (sub, b)\n",
    "        missing_trials.append(k)\n",
    "        missing_trials.append(percent)\n",
    "        if percent <= .40:\n",
    "            pupil_int = pupil.interpolate(limit_direction = 'both')  # linear interpolation of missing values of pupil diameter, allows for interpolation of NaNs at beginning and end\n",
    "            pupil_int_df = pupil_int.to_frame()\n",
    "            filename = \"pupil_int_first_baseline_sub%d_block%d.feather\" % (sub, b)\n",
    "            feather.write_dataframe(pupil_int_df, filename) # for reading: df = feather.read_dataframe(path) \n",
    "        trials_baseline_data = mydata[block_file]['trials_baseline_data']\n",
    "        for k in trials_baseline_data:\n",
    "            baseline_data = trials_baseline_data.get(k)\n",
    "            pupil = baseline_data['LEFT_PUPIL_SIZE']\n",
    "            pupil = pd.to_numeric(pupil, errors='coerce')\n",
    "            total_nans = pupil.isnull().sum() # counting missing values\n",
    "            baseline_length = len(pupil) # counting total number of samples\n",
    "            percent = total_nans/baseline_length\n",
    "            missing_trials.append(k)\n",
    "            missing_trials.append(percent)\n",
    "            if percent <= .40:\n",
    "                pupil_int = pupil.interpolate(limit_direction = 'both')  # linear interpolation of missing values of pupil diameter, allows for interpolation of NaNs at beginning and end\n",
    "                pupil_int_df = pupil_int.to_frame()\n",
    "                filename = \"pupil_int_%s.feather\" % (k)\n",
    "                feather.write_dataframe(pupil_int_df, filename) # for reading: df = feather.read_dataframe(path)\n",
    "        missing_filename = \"missing_baseline_trials_sub%d_block%d.csv\" % (sub, b)\n",
    "        write_list_to_file(missing_trials, missing_filename)"
   ]
  },
  {
   "cell_type": "code",
   "execution_count": 440,
   "metadata": {},
   "outputs": [],
   "source": [
    "# use R scripts to call hampel function on baseline feather files"
   ]
  },
  {
   "cell_type": "code",
   "execution_count": 6,
   "metadata": {},
   "outputs": [],
   "source": [
    "# read hampel files back into python\n",
    "\n",
    "for sub in sub_list:\n",
    "    data_dict = {}\n",
    "    for block in block_list:\n",
    "        trial_file_list = []\n",
    "        base_file_list = []\n",
    "        hamp_baseline_file = 'hampel_pupil_int_baseline_trial*sub%d_block%d.feather' % (sub, block)\n",
    "        hamp_trial_file = 'hampel_pupil_int_trial*sub%d_block%d.feather' % (sub, block)\n",
    "        hamp_first_base_file = 'hampel_pupil_int_first_baseline_sub%d_block%d.feather' % (sub, block)\n",
    "        for file in os.listdir('.'):\n",
    "            if fnmatch.fnmatch(file, hamp_baseline_file):\n",
    "                base_file_list.append(file) # excludes first baseline\n",
    "        for file in os.listdir('.'):\n",
    "            if fnmatch.fnmatch(file, hamp_trial_file):\n",
    "                trial_file_list.append(file) # contains all 15 trials\n",
    "        dict_block_name = 'eye_output_sub%d_block%d' % (sub, block)\n",
    "        # data_dict = {}\n",
    "        data_dict[dict_block_name] = {}\n",
    "        \n",
    "        trial_number_list = []\n",
    "        for at in trial_file_list:\n",
    "            trial_id = re.findall('\\d+', at)[0]\n",
    "            trial_id2 = 'trial' + trial_id + '_'\n",
    "            trial_id22 = 'trial' + trial_id\n",
    "            t = int(trial_id22[5:])\n",
    "            trial_number_list.append(t)\n",
    "            trial_dict = {}\n",
    "            #trial_dict[trial_id22] = {}\n",
    "            for bt in base_file_list:\n",
    "                if  trial_id2 in bt:\n",
    "                    bt_data = feather.read_dataframe(bt) # pandas.core.frame.DataFrame\n",
    "                    at_data = feather.read_dataframe(at)\n",
    "                    bt_median = bt_data.median()\n",
    "                    at_div = at_data / bt_median\n",
    "                    at_mean = at_div.mean()\n",
    "                    trial_dict[\"bt_file\"] = bt\n",
    "                    trial_dict[\"at_file\"] = at\n",
    "                    trial_dict[\"bt_median\"] = bt_median\n",
    "                    trial_dict[\"at_div\"]= at_div\n",
    "                    trial_dict[\"at_mean\"] = at_mean\n",
    "                    \n",
    "                    \n",
    "                    #trial_dict[trial_id22][\"bt_file\"] = bt\n",
    "                    #trial_dict[trial_id22][\"at_file\"] = at\n",
    "                    #trial_dict[trial_id22][\"bt_median\"] = bt_median\n",
    "                    #trial_dict[trial_id22][\"at_div\"]= at_div\n",
    "                    #trial_dict[trial_id22][\"at_mean\"] = at_mean\n",
    "                    data_dict[dict_block_name][trial_id22] = trial_dict\n",
    "        first_trial = min(trial_number_list)\n",
    "        # trial_id2 = 'trial' + str(first_trial) + '_'\n",
    "        trial_id22 = 'trial' + str(first_trial)\n",
    "        hamp_first_trial_file = 'hampel_pupil_int_%s_sub%d_block%d.feather' % (trial_id22, sub, block)\n",
    "        \n",
    "        bt_data = feather.read_dataframe(hamp_first_base_file)\n",
    "        at_data = feather.read_dataframe(hamp_first_trial_file)\n",
    "        bt_median = bt_data.median()\n",
    "        at_div = at_data / bt_median\n",
    "        at_mean = at_div.mean()\n",
    "        trial_dict = {}\n",
    "        trial_dict[\"bt_file\"] = hamp_first_base_file\n",
    "        trial_dict[\"at_file\"] = hamp_first_trial_file\n",
    "        trial_dict[\"bt_median\"] = bt_median\n",
    "        trial_dict[\"at_div\"]= at_div\n",
    "        trial_dict[\"at_mean\"] = at_mean\n",
    "        \n",
    "        data_dict[dict_block_name][trial_id22] = trial_dict\n",
    "    dict_filename = 'eye_data_COMPLETE_sub%d' % sub\n",
    "    obj = data_dict\n",
    "    save_obj(obj, dict_filename )\n",
    "                    \n",
    "                    \n",
    "                    \n",
    "            \n",
    "                    \n",
    "                \n",
    "            \n",
    "        \n",
    "                \n",
    "\n",
    "            "
   ]
  },
  {
   "cell_type": "code",
   "execution_count": null,
   "metadata": {},
   "outputs": [],
   "source": []
  },
  {
   "cell_type": "code",
   "execution_count": null,
   "metadata": {},
   "outputs": [],
   "source": []
  },
  {
   "cell_type": "code",
   "execution_count": null,
   "metadata": {},
   "outputs": [],
   "source": []
  },
  {
   "cell_type": "code",
   "execution_count": null,
   "metadata": {},
   "outputs": [],
   "source": []
  },
  {
   "cell_type": "code",
   "execution_count": null,
   "metadata": {},
   "outputs": [],
   "source": []
  },
  {
   "cell_type": "code",
   "execution_count": null,
   "metadata": {},
   "outputs": [],
   "source": []
  },
  {
   "cell_type": "code",
   "execution_count": null,
   "metadata": {},
   "outputs": [],
   "source": []
  },
  {
   "cell_type": "code",
   "execution_count": null,
   "metadata": {},
   "outputs": [],
   "source": []
  },
  {
   "cell_type": "code",
   "execution_count": null,
   "metadata": {},
   "outputs": [],
   "source": []
  },
  {
   "cell_type": "code",
   "execution_count": null,
   "metadata": {},
   "outputs": [],
   "source": []
  },
  {
   "cell_type": "code",
   "execution_count": null,
   "metadata": {},
   "outputs": [],
   "source": []
  },
  {
   "cell_type": "code",
   "execution_count": null,
   "metadata": {},
   "outputs": [],
   "source": []
  },
  {
   "cell_type": "code",
   "execution_count": null,
   "metadata": {},
   "outputs": [],
   "source": []
  },
  {
   "cell_type": "code",
   "execution_count": null,
   "metadata": {},
   "outputs": [],
   "source": []
  },
  {
   "cell_type": "code",
   "execution_count": null,
   "metadata": {},
   "outputs": [],
   "source": []
  },
  {
   "cell_type": "code",
   "execution_count": null,
   "metadata": {},
   "outputs": [],
   "source": []
  },
  {
   "cell_type": "code",
   "execution_count": null,
   "metadata": {},
   "outputs": [],
   "source": []
  },
  {
   "cell_type": "code",
   "execution_count": null,
   "metadata": {},
   "outputs": [],
   "source": []
  },
  {
   "cell_type": "code",
   "execution_count": null,
   "metadata": {},
   "outputs": [],
   "source": []
  }
 ],
 "metadata": {
  "kernelspec": {
   "display_name": "Python 3",
   "language": "python",
   "name": "python3"
  },
  "language_info": {
   "codemirror_mode": {
    "name": "ipython",
    "version": 3
   },
   "file_extension": ".py",
   "mimetype": "text/x-python",
   "name": "python",
   "nbconvert_exporter": "python",
   "pygments_lexer": "ipython3",
   "version": "3.6.4"
  }
 },
 "nbformat": 4,
 "nbformat_minor": 2
}
