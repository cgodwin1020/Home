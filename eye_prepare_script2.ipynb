{
 "cells": [
  {
   "cell_type": "code",
   "execution_count": null,
   "metadata": {},
   "outputs": [],
   "source": [
    "# ready for use 053018\n",
    "# script for preparing eye tracking data to be used for a trial by trial analysis\n",
    "# Analysis Step 2"
   ]
  },
  {
   "cell_type": "code",
   "execution_count": 16,
   "metadata": {},
   "outputs": [],
   "source": [
    "import numpy as np\n",
    "import pandas as pd\n",
    "from pandas import ExcelWriter\n",
    "from pandas import ExcelFile"
   ]
  },
  {
   "cell_type": "code",
   "execution_count": 97,
   "metadata": {},
   "outputs": [],
   "source": [
    "import pickle\n",
    "def save_obj(obj, name ):\n",
    "    with open(name + '.pkl', 'wb') as f:\n",
    "        pickle.dump(obj, f, pickle.HIGHEST_PROTOCOL)\n",
    "\n",
    "def load_obj(name ):\n",
    "    with open(name + '.pkl', 'rb') as f:\n",
    "        return pickle.load(f)"
   ]
  },
  {
   "cell_type": "code",
   "execution_count": 98,
   "metadata": {},
   "outputs": [],
   "source": [
    "behav_df = pd.read_excel('C:\\\\Users\\\\Christine\\\\Documents\\\\Dropbox\\\\dissertation\\\\MRI_task\\\\MRI_dissertation_subsALL_Dec11_2017.xlsx', sheet_name='MRI_dissertation_subsALL_121117')"
   ]
  },
  {
   "cell_type": "code",
   "execution_count": 99,
   "metadata": {},
   "outputs": [],
   "source": [
    "# subset to get subject's data for n block\n",
    "behav_info_dict = {}\n",
    "prompt_info_dict = {}\n",
    "sub_list = [32] #[3, 16, 18]\n",
    "block_list = [1, 2, 3, 4, 5]\n",
    "for sub in sub_list:\n",
    "    s_text = \"Sub%d\" % sub\n",
    "    behav_info_dict[s_text] = []\n",
    "    sub_behav = behav_df.loc[behav_df['subject_ID'] == s_text]\n",
    "    for block in block_list:\n",
    "        b_text = \"R%d\" % block\n",
    "        sub_behav_block = sub_behav.loc[sub_behav['block'] == b_text]\n",
    "        key_name = \"subject%d_block%d\" % (sub, block)\n",
    "        behav_info_dict[key_name] = sub_behav_block\n",
    "        #getting columns with prompt and RTT information\n",
    "        prompt_info = sub_behav_block.loc[:,['subject_ID', 'tap_period_duration', 'use_in_analysis', 'timing_4', 'promptRESP_RFA', \n",
    "                                            'env_promptRESP_RFA', 'fm_promptRESP_RFA', 'block', 'RTT']]\n",
    "        prompt_info = prompt_info.sort_values(by=['timing_4'])\n",
    "        prompt_key_name = \"prompt_info_sub%d_block%d\" % (sub, block)\n",
    "        prompt_info_dict[prompt_key_name] = prompt_info\n",
    "        \n",
    "save_obj(behav_info_dict, 'behav_info_dict' )\n",
    "save_obj(prompt_info_dict, 'prompt_info_dict' )"
   ]
  },
  {
   "cell_type": "code",
   "execution_count": null,
   "metadata": {},
   "outputs": [],
   "source": []
  },
  {
   "cell_type": "code",
   "execution_count": null,
   "metadata": {},
   "outputs": [],
   "source": []
  },
  {
   "cell_type": "code",
   "execution_count": null,
   "metadata": {},
   "outputs": [],
   "source": []
  },
  {
   "cell_type": "code",
   "execution_count": null,
   "metadata": {},
   "outputs": [],
   "source": []
  },
  {
   "cell_type": "code",
   "execution_count": null,
   "metadata": {},
   "outputs": [],
   "source": []
  },
  {
   "cell_type": "code",
   "execution_count": 100,
   "metadata": {},
   "outputs": [
    {
     "name": "stderr",
     "output_type": "stream",
     "text": [
      "C:\\Users\\Christine\\Anaconda3\\lib\\site-packages\\ipykernel_launcher.py:12: SettingWithCopyWarning: \n",
      "A value is trying to be set on a copy of a slice from a DataFrame.\n",
      "Try using .loc[row_indexer,col_indexer] = value instead\n",
      "\n",
      "See the caveats in the documentation: http://pandas.pydata.org/pandas-docs/stable/indexing.html#indexing-view-versus-copy\n",
      "  if sys.path[0] == '':\n",
      "C:\\Users\\Christine\\Anaconda3\\lib\\site-packages\\pandas\\core\\indexing.py:194: SettingWithCopyWarning: \n",
      "A value is trying to be set on a copy of a slice from a DataFrame\n",
      "\n",
      "See the caveats in the documentation: http://pandas.pydata.org/pandas-docs/stable/indexing.html#indexing-view-versus-copy\n",
      "  self._setitem_with_indexer(indexer, value)\n",
      "C:\\Users\\Christine\\Anaconda3\\lib\\site-packages\\ipykernel_launcher.py:13: SettingWithCopyWarning: \n",
      "A value is trying to be set on a copy of a slice from a DataFrame\n",
      "\n",
      "See the caveats in the documentation: http://pandas.pydata.org/pandas-docs/stable/indexing.html#indexing-view-versus-copy\n",
      "  del sys.path[0]\n",
      "C:\\Users\\Christine\\Anaconda3\\lib\\site-packages\\ipykernel_launcher.py:14: SettingWithCopyWarning: \n",
      "A value is trying to be set on a copy of a slice from a DataFrame\n",
      "\n",
      "See the caveats in the documentation: http://pandas.pydata.org/pandas-docs/stable/indexing.html#indexing-view-versus-copy\n",
      "  \n",
      "C:\\Users\\Christine\\Anaconda3\\lib\\site-packages\\ipykernel_launcher.py:15: SettingWithCopyWarning: \n",
      "A value is trying to be set on a copy of a slice from a DataFrame\n",
      "\n",
      "See the caveats in the documentation: http://pandas.pydata.org/pandas-docs/stable/indexing.html#indexing-view-versus-copy\n",
      "  from ipykernel import kernelapp as app\n",
      "C:\\Users\\Christine\\Anaconda3\\lib\\site-packages\\ipykernel_launcher.py:16: SettingWithCopyWarning: \n",
      "A value is trying to be set on a copy of a slice from a DataFrame\n",
      "\n",
      "See the caveats in the documentation: http://pandas.pydata.org/pandas-docs/stable/indexing.html#indexing-view-versus-copy\n",
      "  app.launch_new_instance()\n",
      "C:\\Users\\Christine\\Anaconda3\\lib\\site-packages\\ipykernel_launcher.py:17: SettingWithCopyWarning: \n",
      "A value is trying to be set on a copy of a slice from a DataFrame\n",
      "\n",
      "See the caveats in the documentation: http://pandas.pydata.org/pandas-docs/stable/indexing.html#indexing-view-versus-copy\n"
     ]
    }
   ],
   "source": [
    "block_list = [1, 2, 3, 4, 5]\n",
    "for sub in sub_list:\n",
    "    eye_dict={}\n",
    "    for block in block_list:\n",
    "        eye_data_file = 'block%d_sub%d.csv' % (block, sub)\n",
    "        eye_data = pd.read_csv(eye_data_file)\n",
    "        key_name = \"subject%d_block%d\" % (sub, block)\n",
    "        block_data = behav_info_dict.get(key_name)\n",
    "        block_data = block_data.sort_values(by=['timing_4'])\n",
    "        # select the tap column, which has already been sorted in order of presentation\n",
    "        taps = block_data[['tap_period_duration']]\n",
    "        taps['tap_totals'] = 12\n",
    "        taps.loc[taps['tap_period_duration'] == 20, 'tap_totals'] = 15\n",
    "        taps.loc[taps['tap_period_duration'] == 24, 'tap_totals'] = 18\n",
    "        taps.loc[taps['tap_period_duration'] == 28, 'tap_totals'] = 22\n",
    "        taps.loc[taps['tap_period_duration'] == 32, 'tap_totals'] = 25\n",
    "        taps.loc[taps['tap_period_duration'] == 36, 'tap_totals'] = 28\n",
    "        \n",
    "        # running total of tap instances to match with Trial ID\n",
    "        \n",
    "        # starting point of Trial ID and sample message text for each block\n",
    "        if block == 1:\n",
    "            add_this = 0\n",
    "            sm_string = \"TRIALID 1\"\n",
    "        elif block == 2:\n",
    "            add_this = 250\n",
    "            sm_string = \"TRIALID 251\"\n",
    "        elif block == 3:\n",
    "            add_this = 500\n",
    "            sm_string = \"TRIALID 501\"\n",
    "        elif block == 4:\n",
    "            add_this = 750\n",
    "            sm_string = \"TRIALID 751\"\n",
    "        elif block == 5:\n",
    "            add_this = 1000\n",
    "            sm_string = \"TRIALID 1001\"\n",
    "                \n",
    "        b = []\n",
    "        btemp = taps.loc[taps.index[0], 'tap_totals'] + add_this\n",
    "        for a in range(1, len(taps)):\n",
    "            btemp = (btemp + taps.loc[taps.index[a], 'tap_totals'])\n",
    "            btemp1 = btemp\n",
    "            b.append(btemp1)\n",
    "        \n",
    "        \n",
    "        first_row = taps.loc[taps.index[0], 'tap_totals'] + add_this\n",
    "        b.insert(0, first_row)\n",
    "        df=pd.DataFrame(b,columns=['trial_ID'])\n",
    "        # resetting row indexes and concatenating data\n",
    "        taps = taps.reset_index()\n",
    "        df = df.reset_index()\n",
    "        all_tap_data = pd.concat([taps, df], axis=1)\n",
    "        \n",
    "        # getting first trial baseline, which always precedes TRIALID 1\n",
    "        first_base_z = list(np.where(eye_data['SAMPLE_MESSAGE'] == sm_string)[0])\n",
    "        first_base_a = first_base_z[0] - 1000\n",
    "        first_base_data = eye_data.loc[first_base_a:first_base_z[0]]\n",
    "        \n",
    "        all_tap_data['trial_start'] = all_tap_data['trial_ID'] - 4\n",
    "        all_tap_filename = \"trialIDS_block%d_sub%d.csv\" % (block, sub)\n",
    "        all_tap_data.to_csv(all_tap_filename)\n",
    "        \n",
    "# getting indexes for the trial IDs and where each trial starts\n",
    "        \n",
    "        trial_dict={}\n",
    "        for t in range(0,len(all_tap_data)):\n",
    "            trialStart_value = all_tap_data.loc[all_tap_data.index[t], 'trial_start']\n",
    "            trialStart_string = \"TRIALID %d\" % (trialStart_value)\n",
    "            trialStart_index = list(np.where(eye_data['SAMPLE_MESSAGE'] == trialStart_string)[0])\n",
    "            trialID_value = all_tap_data.loc[all_tap_data.index[t], 'trial_ID']\n",
    "            trialID_string = \"TRIALID %d\" % (trialID_value)\n",
    "            trialID_index = list(np.where(eye_data['SAMPLE_MESSAGE'] == trialID_string)[0])\n",
    "            trialID_index2 = trialID_index[0] + 1300\n",
    "            # use indexes to subset trial data\n",
    "            trial_data = eye_data.loc[trialStart_index[0]:trialID_index2]\n",
    "            trial_data_dict_key = \"trial%d_sub%d_block%d\" % (trialID_value, sub, block)\n",
    "            trial_dict[trial_data_dict_key] = trial_data\n",
    "        \n",
    "        # subsetting these two columns in preparation for baseline data\n",
    "        trialID_column = all_tap_data['trial_ID']\n",
    "        tap_totals_column = all_tap_data['tap_totals']\n",
    "        \n",
    "        # for all trials except Trial 1, get the last 1000 ms of baseline from beginning of tap period; store to dict\n",
    "        baseline_indexes = trialID_column - (tap_totals_column - 1)\n",
    "        baseline_dict={}\n",
    "        for base in range(1,len(baseline_indexes)):\n",
    "            baseline_trialID = baseline_indexes[base]\n",
    "            baseline_trialID_string = \"TRIALID %d\" % (baseline_trialID)\n",
    "            baseline_trialID_index_z = list(np.where(eye_data['SAMPLE_MESSAGE'] == baseline_trialID_string)[0])\n",
    "            baseline_trialID_index_a = baseline_trialID_index_z[0] - 1000\n",
    "            trial_base_data = eye_data.loc[baseline_trialID_index_a:baseline_trialID_index_z[0]]\n",
    "            base_dict_key = \"baseline_trial%s_sub%d_block%d\" % ((trialID_column[base]), sub, block)\n",
    "            baseline_dict[base_dict_key] = trial_base_data\n",
    "            \n",
    "        #create dictionary for each block for each subject\n",
    "        sub_dict={}\n",
    "        sub_dict_key1 = \"all_tap_data\"\n",
    "        sub_dict_key2 = \"all_trial_data\"\n",
    "        sub_dict_key3 = \"first_baseline_data\"\n",
    "        sub_dict_key4 = \"trials_baseline_data\"\n",
    "        sub_dict[sub_dict_key1] = all_tap_data\n",
    "        sub_dict[sub_dict_key2] = trial_dict\n",
    "        sub_dict[sub_dict_key3] = first_base_data\n",
    "        sub_dict[sub_dict_key4] = baseline_dict\n",
    "        \n",
    "        eye_dict_key = \"eye_data_sub%d_block%d\" % (sub, block)\n",
    "        eye_dict[eye_dict_key] = sub_dict\n",
    "       \n",
    "    name = 'eye_data_prepared_sub%d' % sub\n",
    "    obj = eye_dict\n",
    "    save_obj(obj, name )"
   ]
  },
  {
   "cell_type": "code",
   "execution_count": null,
   "metadata": {},
   "outputs": [],
   "source": []
  },
  {
   "cell_type": "code",
   "execution_count": null,
   "metadata": {},
   "outputs": [],
   "source": []
  },
  {
   "cell_type": "code",
   "execution_count": null,
   "metadata": {},
   "outputs": [],
   "source": []
  },
  {
   "cell_type": "code",
   "execution_count": null,
   "metadata": {},
   "outputs": [],
   "source": []
  },
  {
   "cell_type": "code",
   "execution_count": null,
   "metadata": {},
   "outputs": [],
   "source": []
  },
  {
   "cell_type": "code",
   "execution_count": null,
   "metadata": {},
   "outputs": [],
   "source": []
  },
  {
   "cell_type": "code",
   "execution_count": null,
   "metadata": {},
   "outputs": [],
   "source": []
  },
  {
   "cell_type": "code",
   "execution_count": null,
   "metadata": {},
   "outputs": [],
   "source": []
  },
  {
   "cell_type": "code",
   "execution_count": null,
   "metadata": {},
   "outputs": [],
   "source": []
  },
  {
   "cell_type": "code",
   "execution_count": null,
   "metadata": {},
   "outputs": [],
   "source": []
  },
  {
   "cell_type": "code",
   "execution_count": null,
   "metadata": {},
   "outputs": [],
   "source": []
  },
  {
   "cell_type": "code",
   "execution_count": null,
   "metadata": {},
   "outputs": [],
   "source": []
  },
  {
   "cell_type": "code",
   "execution_count": null,
   "metadata": {},
   "outputs": [],
   "source": []
  },
  {
   "cell_type": "code",
   "execution_count": null,
   "metadata": {},
   "outputs": [],
   "source": []
  },
  {
   "cell_type": "code",
   "execution_count": null,
   "metadata": {},
   "outputs": [],
   "source": []
  },
  {
   "cell_type": "code",
   "execution_count": null,
   "metadata": {},
   "outputs": [],
   "source": []
  },
  {
   "cell_type": "code",
   "execution_count": null,
   "metadata": {},
   "outputs": [],
   "source": []
  },
  {
   "cell_type": "code",
   "execution_count": null,
   "metadata": {},
   "outputs": [],
   "source": []
  },
  {
   "cell_type": "code",
   "execution_count": null,
   "metadata": {},
   "outputs": [],
   "source": []
  },
  {
   "cell_type": "code",
   "execution_count": null,
   "metadata": {},
   "outputs": [],
   "source": []
  },
  {
   "cell_type": "code",
   "execution_count": null,
   "metadata": {},
   "outputs": [],
   "source": []
  },
  {
   "cell_type": "code",
   "execution_count": null,
   "metadata": {},
   "outputs": [],
   "source": []
  },
  {
   "cell_type": "code",
   "execution_count": null,
   "metadata": {},
   "outputs": [],
   "source": []
  },
  {
   "cell_type": "code",
   "execution_count": null,
   "metadata": {},
   "outputs": [],
   "source": []
  },
  {
   "cell_type": "code",
   "execution_count": null,
   "metadata": {},
   "outputs": [],
   "source": []
  },
  {
   "cell_type": "code",
   "execution_count": null,
   "metadata": {},
   "outputs": [],
   "source": []
  },
  {
   "cell_type": "code",
   "execution_count": null,
   "metadata": {},
   "outputs": [],
   "source": []
  },
  {
   "cell_type": "code",
   "execution_count": null,
   "metadata": {},
   "outputs": [],
   "source": []
  },
  {
   "cell_type": "code",
   "execution_count": null,
   "metadata": {},
   "outputs": [],
   "source": []
  },
  {
   "cell_type": "code",
   "execution_count": null,
   "metadata": {},
   "outputs": [],
   "source": []
  }
 ],
 "metadata": {
  "kernelspec": {
   "display_name": "Python 3",
   "language": "python",
   "name": "python3"
  },
  "language_info": {
   "codemirror_mode": {
    "name": "ipython",
    "version": 3
   },
   "file_extension": ".py",
   "mimetype": "text/x-python",
   "name": "python",
   "nbconvert_exporter": "python",
   "pygments_lexer": "ipython3",
   "version": "3.6.4"
  }
 },
 "nbformat": 4,
 "nbformat_minor": 2
}
