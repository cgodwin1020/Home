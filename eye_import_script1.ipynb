{
 "cells": [
  {
   "cell_type": "code",
   "execution_count": null,
   "metadata": {},
   "outputs": [],
   "source": [
    "# ready for use 053018\n",
    "# script for importing eye tracking data for each subject, divided into blocks\n",
    "# Analysis Step 1"
   ]
  },
  {
   "cell_type": "code",
   "execution_count": 5,
   "metadata": {},
   "outputs": [],
   "source": [
    "import numpy as np\n",
    "import pandas as pd"
   ]
  },
  {
   "cell_type": "code",
   "execution_count": 30,
   "metadata": {},
   "outputs": [],
   "source": [
    "subjects = [31]\n",
    "for sub in subjects:\n",
    "    # el_file = 'Sub%d_original.txt' % sub\n",
    "    el_file = 'Sub%d_original.xls' % sub\n",
    "    eye_data = pd.read_table(el_file)\n",
    "    t1_start = list(np.where(eye_data['SAMPLE_MESSAGE'] == 'TRIALID 1')[0])\n",
    "    t1_end = list(np.where(eye_data['SAMPLE_MESSAGE'] == 'TRIALID 250')[0])\n",
    "    t2_start = list(np.where(eye_data['SAMPLE_MESSAGE'] == 'TRIALID 251')[0])\n",
    "    t2_end = list(np.where(eye_data['SAMPLE_MESSAGE'] == 'TRIALID 500')[0])\n",
    "    t3_start = list(np.where(eye_data['SAMPLE_MESSAGE'] == 'TRIALID 501')[0])\n",
    "    t3_end = list(np.where(eye_data['SAMPLE_MESSAGE'] == 'TRIALID 750')[0])\n",
    "    t4_start = list(np.where(eye_data['SAMPLE_MESSAGE'] == 'TRIALID 751')[0])\n",
    "    t4_end = list(np.where(eye_data['SAMPLE_MESSAGE'] == 'TRIALID 1000')[0])\n",
    "    t5_start = list(np.where(eye_data['SAMPLE_MESSAGE'] == 'TRIALID 1001')[0])\n",
    "    t5_end = list(np.where(eye_data['SAMPLE_MESSAGE'] == 'TRIALID 1250')[0])\n",
    "    \n",
    "    #get first block\n",
    "    block1 = eye_data.loc[t1_start[0]:t1_end[0]]\n",
    "    #the 5000 rows preceding the block (to include first trial's baseline)\n",
    "    pre_block1 = eye_data.loc[(t1_start[0]-5000):(t1_start[0]-1)]\n",
    "    #the 2000 rows following the end of the block (to include last trial's last beep and some extra rows)\n",
    "    post_block1 = eye_data.loc[(t1_end[0]+1):(t1_end[0]+2000)]\n",
    "    #concatenate three sections\n",
    "    frames = [pre_block1, block1, post_block1]\n",
    "    result = pd.concat(frames)\n",
    "    result_file = 'block1_sub%d.csv' % sub\n",
    "    result.to_csv(result_file)\n",
    "    \n",
    "    #get second block\n",
    "    block2 = eye_data.loc[t2_start[0]:t2_end[0]]\n",
    "    #the 5000 rows preceding the block (to include first trial's baseline)\n",
    "    pre_block2 = eye_data.loc[(t2_start[0]-5000):(t2_start[0]-1)]\n",
    "    #the 2000 rows following the end of the block (to include last trial's last beep and some extra rows)\n",
    "    post_block2 = eye_data.loc[(t2_end[0]+1):(t2_end[0]+2000)]\n",
    "    #concatenate three sections\n",
    "    frames = [pre_block2, block2, post_block2]\n",
    "    result = pd.concat(frames)\n",
    "    result_file = 'block2_sub%d.csv' % sub\n",
    "    result.to_csv(result_file)\n",
    "    \n",
    "    #get third block\n",
    "    block3 = eye_data.loc[t3_start[0]:t3_end[0]]\n",
    "    #the 5000 rows preceding the block (to include first trial's baseline)\n",
    "    pre_block3 = eye_data.loc[(t3_start[0]-5000):(t3_start[0]-1)]\n",
    "    #the 2000 rows following the end of the block (to include last trial's last beep and some extra rows)\n",
    "    post_block3 = eye_data.loc[(t3_end[0]+1):(t3_end[0]+2000)]\n",
    "    #concatenate three sections\n",
    "    frames = [pre_block3, block3, post_block3]\n",
    "    result = pd.concat(frames)\n",
    "    result_file = 'block3_sub%d.csv' % sub\n",
    "    result.to_csv(result_file)\n",
    "    \n",
    "    #get fourth block\n",
    "    block4 = eye_data.loc[t4_start[0]:t4_end[0]]\n",
    "    #the 5000 rows preceding the block (to include first trial's baseline)\n",
    "    pre_block4 = eye_data.loc[(t4_start[0]-5000):(t4_start[0]-1)]\n",
    "    #the 2000 rows following the end of the block (to include last trial's last beep and some extra rows)\n",
    "    post_block4 = eye_data.loc[(t4_end[0]+1):(t4_end[0]+2000)]\n",
    "    #concatenate three sections\n",
    "    frames = [pre_block4, block4, post_block4]\n",
    "    result = pd.concat(frames)\n",
    "    result_file = 'block4_sub%d.csv' % sub\n",
    "    result.to_csv(result_file)\n",
    "    \n",
    "    #get fifth block\n",
    "    block5 = eye_data.loc[t5_start[0]:t5_end[0]]\n",
    "    #the 5000 rows preceding the block (to include first trial's baseline)\n",
    "    pre_block5 = eye_data.loc[(t5_start[0]-5000):(t5_start[0]-1)]\n",
    "    #the 2000 rows following the end of the block (to include last trial's last beep and some extra rows)\n",
    "    post_block5 = eye_data.loc[(t5_end[0]+1):(t5_end[0]+2000)]\n",
    "    #concatenate three sections\n",
    "    frames = [pre_block5, block5, post_block5]\n",
    "    result = pd.concat(frames)\n",
    "    result_file = 'block5_sub%d.csv' % sub\n",
    "    result.to_csv(result_file)"
   ]
  },
  {
   "cell_type": "code",
   "execution_count": null,
   "metadata": {},
   "outputs": [],
   "source": []
  },
  {
   "cell_type": "code",
   "execution_count": null,
   "metadata": {},
   "outputs": [],
   "source": []
  },
  {
   "cell_type": "code",
   "execution_count": null,
   "metadata": {},
   "outputs": [],
   "source": []
  },
  {
   "cell_type": "code",
   "execution_count": null,
   "metadata": {},
   "outputs": [],
   "source": []
  },
  {
   "cell_type": "code",
   "execution_count": null,
   "metadata": {},
   "outputs": [],
   "source": []
  },
  {
   "cell_type": "code",
   "execution_count": null,
   "metadata": {},
   "outputs": [],
   "source": []
  },
  {
   "cell_type": "code",
   "execution_count": null,
   "metadata": {},
   "outputs": [],
   "source": []
  },
  {
   "cell_type": "code",
   "execution_count": null,
   "metadata": {},
   "outputs": [],
   "source": []
  },
  {
   "cell_type": "code",
   "execution_count": null,
   "metadata": {},
   "outputs": [],
   "source": []
  },
  {
   "cell_type": "code",
   "execution_count": null,
   "metadata": {},
   "outputs": [],
   "source": []
  },
  {
   "cell_type": "code",
   "execution_count": null,
   "metadata": {},
   "outputs": [],
   "source": []
  },
  {
   "cell_type": "code",
   "execution_count": null,
   "metadata": {},
   "outputs": [],
   "source": []
  }
 ],
 "metadata": {
  "kernelspec": {
   "display_name": "Python 3",
   "language": "python",
   "name": "python3"
  },
  "language_info": {
   "codemirror_mode": {
    "name": "ipython",
    "version": 3
   },
   "file_extension": ".py",
   "mimetype": "text/x-python",
   "name": "python",
   "nbconvert_exporter": "python",
   "pygments_lexer": "ipython3",
   "version": "3.6.4"
  }
 },
 "nbformat": 4,
 "nbformat_minor": 2
}
